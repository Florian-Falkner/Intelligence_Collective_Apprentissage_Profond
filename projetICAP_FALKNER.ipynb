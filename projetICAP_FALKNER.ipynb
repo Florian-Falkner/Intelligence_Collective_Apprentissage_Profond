{
 "cells": [
  {
   "cell_type": "markdown",
   "metadata": {},
   "source": [
    "## Projet ICAP - FALKNER Florian\n",
    "#### Master SDSC - Université de Strasbourg\n",
    "\n",
    "Objectif: Détection d'événements anormaux dans les puits de pétrole\n",
    "\n",
    "#### 1. Data Analysis\n",
    "\n",
    "   Voir la partie 1 du projet. Ce que j'ai fait en plus c'est d'extraire la class y (celle à prédire) dans un dataframe à part et ensuite un dropout des colonnes que je n'ai pas besoin. Après le dropout, j'ai directement fait une normalisation des données par colonne en utilisant une fonction. Après la transformation, j'ai aussi fait un onehot pour y_train et y_test. Pour les 0 ça sera 1.0.0, les 8 -> 0.1.0 et les 108 -> 0.0.1\n",
    "\n",
    "#### 2. Data transformation\n",
    "\n",
    "   Pour la transformation des données, j'ai créé un petit bloc de codes pour transformer les données brutes pour avoir le même format que vos données transformées. Pour faire ceci, j'ai analysé vos fichiers Excels et fait quelques calculs pour retrouver le bon format. J'ai pu comprendre que le format se fait sur 25 timestep qui sont rangés dans un array. Donc la ligne 0 jusqu'à la ligne 24 seraient rangées dans un array et ensuite on fait +1 pour prendre les lignes 1 jusqu'à 25 et ainsi de suite. Chaque nouveau \"bloc\" de timestep est rangé dans un array différent. À la fin tous les arrays se retrouvent dans un grand array qui englobe tous les autres. Je convertis le dataset en numpy array, je prends la taille du dataset, je mets 25 pour le nombre de timestep, deux compteurs et deux listes. La listeX sera celle qui contiendra tous les autres array. \n",
    "   \n",
    "J'ai 2 boucles while, la 1ère vérifie s'il est possible de prendre les 25 prochains timestep. Si cela est bon, la 2ème boucle vérifie si le compteur (compteur de timestep) n'est pas égal au nombre de timestep qu'on veut (25). Si ça passe, je concatène le 1er timestep dans la liste1, ensuite 2ème timestep, 3ème, 4ème et ainsi de suite jusqu'à le compteur soit égal au nombre de timestep (25). Si c'est le cas, on incrémente le 2ème compteur, le 1er compteur est remis à 0 et on ajoute les 25 timestep (125 chiffres) de la list1 dans le grand array listX et on vide la liste1 pour qu'il soit utilisable pour sauvegarder les 25 prochains timestep. Il faut savoir que les 25 derniers timestep ne seront pas pris car sinon cela dépasse la limite avec les y, on aura donc 26974 lignes et non 26999.\n",
    "   \n",
    "   Pour le dataset y, j'extrais à partir de la longueur du timestep (25ème en partant de 0, ce qui représente la ligne 26) jusqu'à la longueur de la listeX + timestep. Ce qui nous donne aussi 26974 lignes. Donc pour la targetClasse on enlève les 25 premiers chiffres et dans celle de listX, on enlève les 25 derniers. Pour finir, je split les données pour l'entrainement et le test. Le code se trouve dans le bloc 3.\n",
    "   \n",
    "\n",
    "#### 3. Model set up\n",
    "\n",
    "   J'ai choisi d'utiliser 2 Conv1D avec une taille de noyau différente mais croissante. Je voulais pas en mettre trop pour ne pas avoir un modèle trop profond. Chaque couche de convolution est suivie par une couche de MaxPooling de taille 3. Maxpooling sert à réduire progressivement la taille spatiale de la représentation tout en conservant les informations les plus importantes pour les couches suivantes et réduit le nombre de paramètres. Ils ont une taille de 3. La taille du noyau est de 5 pour les Conv1D, pour qu'il ait la possibilité de se déplacer dans la matrice.\n",
    "   \n",
    "   Ensuite, j'ai mis une couche Flatten qui est obligatoire pour mettre les données en 1D sinon ça ne fonctionne pas.\n",
    "   Pour finir, j'ai 4 couches Dense (Fully-connected) dont une (la dernière) qui est à 3 car on peut avoir que 3 sorties, car les onehot font une taille de 3. Ces couches sont utiles pour la classification et je me suis dit que 4 Dense avec des filtres qui sont décroissants devraient suffire.  Pour toutes les couches sauf la dernière j'ai utilisé l'activation relu pour activer les différentes unités. Pour la dernière, j'ai utilisé sigmoid car on doit avoir un résultat entre 0 et 1 à cause des onehot.\n",
    "   \n",
    "   Le modèle n'est pas grand, il a ~120.000 paramètres. Je voulais un modèle qui soit cohérent et pas complexe. \n",
    "\n",
    "#### 4. Model training and evaluation\n",
    "\n",
    "   J'ai utilisé un EarlyStopping sur val_loss, le mode minimize et une patience de 4. Je trouve que c'est mieux d'utiliser un EarlyStopping sur les données du jeu de validation. J'utilise le mode min car je veux minimiser le validation loss. L'entrainement s'arrête lorsque la mesure de performance choisie cesse de s'améliorer. Je pense que patience = 4 est suffisant pour ce modèle qui a une epoch de 15.\n",
    "   \n",
    "   Ensuite, je compile le modèle en utilisant adam et le loss categorical_crossentropy. J'ai utlisé adam car en entrainent le modèle cela met moins de temps et est plus efficace. J'ai utilisé ce loss car il est fait pour les probabilités et il est fait pour calculer l'erreur s'il y a plus que 2 label, ce qui est le cas. \n",
    "   \n",
    "   L'entrainement du modèle se fait sur les x_train et sur les y_train onehot et ça sur 15 epochs. J'ai décidé de ne pas mettre plus car j'ai des bons résultats avec 15 donc je ne vois pas l'utilité de l'augmenter. Comme demandé, j'ai ajouté une validation_split de 0.2.\n",
    "  \n",
    "  En faisant un print du résumé du modèle, on peut voir le résumé du modèle mais aussi le nombre de paramètres. On peut voir le loss et la précision sur l'entrainement et sur la validation. En ayant mis verbose=1 à EarlyStopping, on peut voir à quelle epoch il s'est arrêté. J'ai aussi ajouté un plot qui affiche la précision sur les tests et training du modèle par rapport au epochs. On peut voir que le loss sur l'entrainement décroit toujours, pareil pour le loss sur les données de validation. Ceci nous indique qu'il n'y a pas d'overfit. On remarque aussi que la précision sur les deux côtés augmente et ne reste pas bloquée ou diminue.  \n",
    "  \n",
    "  Quand j'évalue le modèle sur x_test et y_test_ohe, la précision du modèle est très bonne. La précision est presque toujours entre 95% et 99%. Ceci nous indique que le modèle prédira très bien. Ensuite, j'enregistre les prédictions faite sur x_test dans la variable test. Je reconvertis les variables y_test_ohe et test en non onehot pour pourvoir les utiliser dans le random des 1000 instances et pour avoir un affichage correct dans la matrice de confusion.\n",
    "  \n",
    "  J'ai créé 1000 random instance comme demandé dans le projet. Je prends un nombre aléatoire entre 0 et la longueur de la variable test (prédictions faite sur x_test) et ensuite je prends le timestep correspondant au chiffre et j'enregistre le timstep x dans test_random et le y dans y_random.\n",
    "  \n",
    "  Le dernier bloc c'est pour la matrice de confusion. Comme le modèle apprend bien, les résultats sont très précis sauf parfois pour quelques labels mais c'est qu'une petite quantité. En lançant plusieurs fois l'évaluation j'ai pu remarquer qu'il prédit les 0 à 99-100% justes. C'est seulement pour les 8 et 108 où il ne prédit pas à 100% mais plutôt 95-99% justes. \n",
    "  \n",
    "  Je peux conclure que le modèle apprend et prédit bien sans être lourd et complexe, il atteint l'objectif."
   ]
  },
  {
   "cell_type": "code",
   "execution_count": 1,
   "metadata": {},
   "outputs": [],
   "source": [
    "# Package\n",
    "import pandas as pd\n",
    "import numpy as np\n",
    "import random\n",
    "import matplotlib.pyplot as plt\n",
    "\n",
    "from keras.models import Sequential\n",
    "from keras.layers import Dense, Flatten\n",
    "from keras.layers import Conv1D, MaxPooling1D\n",
    "from keras.callbacks import EarlyStopping\n",
    "\n",
    "from sklearn.preprocessing import OneHotEncoder\n",
    "from sklearn.model_selection import train_test_split"
   ]
  },
  {
   "cell_type": "code",
   "execution_count": 2,
   "metadata": {},
   "outputs": [],
   "source": [
    "# Fonction pour la normalisation\n",
    "def scale_linear_bycolumn(rawpoints, high = 1.0, low = 0.0):\n",
    "    mins = np.min(rawpoints, axis = 0)\n",
    "    maxs = np.max(rawpoints, axis = 0)\n",
    "    rnge = maxs - mins\n",
    "    return high - (((high - low) * (maxs - rawpoints)) / rnge)"
   ]
  },
  {
   "cell_type": "code",
   "execution_count": 3,
   "metadata": {},
   "outputs": [],
   "source": [
    "# Chargement des données et dropout des colonnes\n",
    "df = pd.read_csv('donnees_brutes.csv')\n",
    "targetClass = df['class']\n",
    "df = df.drop(['timestamp', 'P-JUS-CKGL', 'T-JUS-CKGL', 'QGL', 'class'], axis = 1)\n",
    "\n",
    "# Normalisation des données\n",
    "df = scale_linear_bycolumn(df)\n",
    "\n",
    "\n",
    "# Transformation des données\n",
    "df = df.to_numpy()\n",
    "datasetLength = len(df)\n",
    "timestep = 25\n",
    "\n",
    "counter = 0\n",
    "i = 0\n",
    "\n",
    "list1 = []\n",
    "listX = []\n",
    "\n",
    "while(timestep < datasetLength):\n",
    "    while(counter != timestep):\n",
    "        list1.append(df[counter+i])\n",
    "        counter += 1\n",
    "    counter = 0\n",
    "    i += 1\n",
    "\n",
    "    listX.append(list1)\n",
    "    list1 = []\n",
    "    \n",
    "    datasetLength -= 1\n",
    "    \n",
    "targetClass = targetClass[timestep:len(listX)+timestep]\n",
    "targetClass = targetClass.to_numpy()\n",
    "listX = np.array(listX)\n",
    "\n",
    "# Training/Test split\n",
    "x_train, x_test, y_train, y_test = train_test_split(listX, targetClass)"
   ]
  },
  {
   "cell_type": "code",
   "execution_count": 4,
   "metadata": {},
   "outputs": [],
   "source": [
    "# OneHot de y_train et y_test\n",
    "onehot_encoder = OneHotEncoder(sparse = False)\n",
    "y_train_ohe = onehot_encoder.fit_transform(y_train.reshape(-1, 1))\n",
    "\n",
    "onehot_encoder = OneHotEncoder(sparse = False)\n",
    "y_test_ohe = onehot_encoder.fit_transform(y_test.reshape(-1, 1))\n",
    "\n",
    "# 0 -> 1.0.0\n",
    "# 8 -> 0.1.0\n",
    "# 108 -> 0.0.1 "
   ]
  },
  {
   "cell_type": "code",
   "execution_count": 5,
   "metadata": {
    "scrolled": false
   },
   "outputs": [
    {
     "name": "stdout",
     "output_type": "stream",
     "text": [
      "Epoch 1/15\n",
      "506/506 - 5s - loss: 0.1716 - accuracy: 0.9172 - val_loss: 0.1327 - val_accuracy: 0.9471\n",
      "Epoch 2/15\n",
      "506/506 - 2s - loss: 0.1109 - accuracy: 0.9519 - val_loss: 0.1124 - val_accuracy: 0.9545\n",
      "Epoch 3/15\n",
      "506/506 - 2s - loss: 0.0987 - accuracy: 0.9582 - val_loss: 0.0891 - val_accuracy: 0.9597\n",
      "Epoch 4/15\n",
      "506/506 - 2s - loss: 0.0862 - accuracy: 0.9665 - val_loss: 0.1166 - val_accuracy: 0.9605\n",
      "Epoch 5/15\n",
      "506/506 - 2s - loss: 0.0818 - accuracy: 0.9702 - val_loss: 0.0671 - val_accuracy: 0.9773\n",
      "Epoch 6/15\n",
      "506/506 - 2s - loss: 0.0665 - accuracy: 0.9752 - val_loss: 0.0548 - val_accuracy: 0.9807\n",
      "Epoch 7/15\n",
      "506/506 - 2s - loss: 0.0901 - accuracy: 0.9681 - val_loss: 0.0922 - val_accuracy: 0.9654\n",
      "Epoch 8/15\n",
      "506/506 - 2s - loss: 0.0758 - accuracy: 0.9695 - val_loss: 0.1027 - val_accuracy: 0.9553\n",
      "Epoch 9/15\n",
      "506/506 - 2s - loss: 0.0784 - accuracy: 0.9663 - val_loss: 0.0494 - val_accuracy: 0.9834\n",
      "Epoch 10/15\n",
      "506/506 - 2s - loss: 0.0650 - accuracy: 0.9777 - val_loss: 0.1015 - val_accuracy: 0.9666\n",
      "Epoch 11/15\n",
      "506/506 - 2s - loss: 0.0657 - accuracy: 0.9748 - val_loss: 0.0595 - val_accuracy: 0.9768\n",
      "Epoch 12/15\n",
      "506/506 - 2s - loss: 0.0575 - accuracy: 0.9806 - val_loss: 0.0611 - val_accuracy: 0.9716\n",
      "Epoch 13/15\n",
      "506/506 - 2s - loss: 0.0718 - accuracy: 0.9732 - val_loss: 0.1215 - val_accuracy: 0.9570\n",
      "Epoch 00013: early stopping\n",
      "Model: \"sequential\"\n",
      "_________________________________________________________________\n",
      "Layer (type)                 Output Shape              Param #   \n",
      "=================================================================\n",
      "conv1d (Conv1D)              (None, 21, 64)            1664      \n",
      "_________________________________________________________________\n",
      "max_pooling1d (MaxPooling1D) (None, 7, 64)             0         \n",
      "_________________________________________________________________\n",
      "conv1d_1 (Conv1D)            (None, 3, 128)            41088     \n",
      "_________________________________________________________________\n",
      "max_pooling1d_1 (MaxPooling1 (None, 1, 128)            0         \n",
      "_________________________________________________________________\n",
      "flatten (Flatten)            (None, 128)               0         \n",
      "_________________________________________________________________\n",
      "dense (Dense)                (None, 265)               34185     \n",
      "_________________________________________________________________\n",
      "dense_1 (Dense)              (None, 128)               34048     \n",
      "_________________________________________________________________\n",
      "dense_2 (Dense)              (None, 64)                8256      \n",
      "_________________________________________________________________\n",
      "dense_3 (Dense)              (None, 3)                 195       \n",
      "=================================================================\n",
      "Total params: 119,436\n",
      "Trainable params: 119,436\n",
      "Non-trainable params: 0\n",
      "_________________________________________________________________\n",
      "None\n"
     ]
    }
   ],
   "source": [
    "# Architecture du modèle\n",
    "model = Sequential()\n",
    "model.add(Conv1D(filters = 64, kernel_size = 5, activation = 'relu', input_shape = (25, 5)))\n",
    "model.add(MaxPooling1D(pool_size = 3))\n",
    "model.add(Conv1D(filters = 128, kernel_size = 5, activation = 'relu'))\n",
    "model.add(MaxPooling1D(pool_size = 3))\n",
    "\n",
    "model.add(Flatten())\n",
    "\n",
    "model.add(Dense(265, activation = 'relu'))\n",
    "model.add(Dense(128, activation = 'relu'))\n",
    "model.add(Dense(64, activation = 'relu'))\n",
    "\n",
    "# Couche sortie\n",
    "model.add(Dense(3, activation = 'sigmoid'))\n",
    "\n",
    "# Early Stopping\n",
    "estopping = EarlyStopping(monitor = 'val_loss', mode = 'min', patience = 4, verbose = 1)\n",
    "model.compile(optimizer = 'adam', loss = 'categorical_crossentropy', metrics = ['accuracy'])\n",
    "history = model.fit(x = x_train, y = y_train_ohe, epochs = 15, validation_split = 0.2, verbose = 2, callbacks=[estopping])\n",
    "\n",
    "print(model.summary())"
   ]
  },
  {
   "cell_type": "code",
   "execution_count": 6,
   "metadata": {},
   "outputs": [
    {
     "data": {
      "text/plain": [
       "<matplotlib.legend.Legend at 0x7f9555d2c7d0>"
      ]
     },
     "execution_count": 6,
     "metadata": {},
     "output_type": "execute_result"
    },
    {
     "data": {
      "image/png": "[encoded data removed]",
      "text/plain": [
       "<Figure size 432x288 with 1 Axes>"
      ]
     },
     "metadata": {
      "needs_background": "light"
     },
     "output_type": "display_data"
    }
   ],
   "source": [
    "# Plot Training/Test\n",
    "plt.plot(history.history['accuracy'], label='accuracy')\n",
    "plt.plot(history.history['val_accuracy'], label = 'val_accuracy')\n",
    "plt.xlabel('Epoch')\n",
    "plt.ylabel('Accuracy')\n",
    "plt.ylim([0.5, 1])\n",
    "plt.legend(loc='lower right')"
   ]
  },
  {
   "cell_type": "code",
   "execution_count": 7,
   "metadata": {
    "scrolled": true
   },
   "outputs": [
    {
     "name": "stdout",
     "output_type": "stream",
     "text": [
      "211/211 [==============================] - 0s 2ms/step - loss: 0.1303 - accuracy: 0.9533\n"
     ]
    },
    {
     "data": {
      "text/plain": [
       "[0.13026398420333862, 0.9532918334007263]"
      ]
     },
     "execution_count": 7,
     "metadata": {},
     "output_type": "execute_result"
    }
   ],
   "source": [
    "# Evaluation du modèle\n",
    "model.evaluate(x = x_test, y = y_test_ohe, verbose = 1)"
   ]
  },
  {
   "cell_type": "code",
   "execution_count": 8,
   "metadata": {},
   "outputs": [],
   "source": [
    "# Model predict\n",
    "test = model.predict(x_test)\n",
    "\n",
    "# Inverser OneHot\n",
    "test = onehot_encoder.inverse_transform(test).ravel()\n",
    "y_test_No_ohe = onehot_encoder.inverse_transform(y_test_ohe).ravel()\n",
    "\n",
    "# Création de 1000 random samples\n",
    "test_random = np.array([])\n",
    "y_random = np.array([])\n",
    "for i in range(1000):\n",
    "    r = random.randint(0, len(test))\n",
    "    test_random = np.insert(test_random, len(test_random), test[r])\n",
    "    y_random = np.insert(y_random, len(y_random), y_test_No_ohe[r])"
   ]
  },
  {
   "cell_type": "code",
   "execution_count": 9,
   "metadata": {
    "scrolled": true
   },
   "outputs": [
    {
     "name": "stdout",
     "output_type": "stream",
     "text": [
      "Predicted  0.0    8.0    108.0\n",
      "Actual                        \n",
      "0.0           60      0      0\n",
      "8.0            0    581      0\n",
      "108.0         21     26    312\n"
     ]
    }
   ],
   "source": [
    "# Matrice de confusion\n",
    "data = {'y_Actual':    y_random,\n",
    "        'y_Predicted': test_random}\n",
    "\n",
    "df = pd.DataFrame(data, columns = ['y_Actual','y_Predicted'])\n",
    "confusion_matrix = pd.crosstab(df['y_Actual'], df['y_Predicted'], rownames = ['Actual'], colnames = ['Predicted'])\n",
    "print(confusion_matrix)"
   ]
  }
 ],
 "metadata": {
  "kernelspec": {
   "display_name": "Python 3",
   "language": "python",
   "name": "python3"
  },
  "language_info": {
   "codemirror_mode": {
    "name": "ipython",
    "version": 3
   },
   "file_extension": ".py",
   "mimetype": "text/x-python",
   "name": "python",
   "nbconvert_exporter": "python",
   "pygments_lexer": "ipython3",
   "version": "3.7.9"
  }
 },
 "nbformat": 4,
 "nbformat_minor": 4
}
